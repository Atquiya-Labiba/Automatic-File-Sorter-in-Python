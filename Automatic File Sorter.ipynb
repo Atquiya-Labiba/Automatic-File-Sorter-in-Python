{
 "cells": [
  {
   "cell_type": "code",
   "execution_count": 18,
   "id": "72545471",
   "metadata": {},
   "outputs": [],
   "source": [
    "import os,shutil\n",
    "\n",
    "path= r\"C:/Users/USER/Downloads/\"\n",
    "file_name=os.listdir(path)\n",
    "folder_names=['Images', 'PDF Files','EXE Files','DOC Files']\n",
    "\n",
    "for loop in range(0,len(folder_names)):\n",
    "    if not os.path.exists(path + folder_names[loop]):\n",
    "        os.makedirs((path + folder_names[loop]))\n",
    "\n",
    "for file in file_name:\n",
    "    if \".pdf\" in file and not os.path.exists(path + \"PDF Files/\" + file):\n",
    "        shutil.move(path + file,path + \"PDF Files/\" + file)\n",
    "    elif any(extension in file.lower() for extension in [\".jpg\", \".jpeg\", \".png\"]) and not os.path.exists(path + \"Images/\" + file):\n",
    "        shutil.move(path + file, path + \"Images/\" + file)\n",
    "    elif \".exe\" in file and not os.path.exists(path + \"EXE Files/\" + file):\n",
    "        shutil.move(path + file,path + \"EXE Files/\" + file)\n",
    "    elif \".docx\" in file and not os.path.exists(path + \"DOC Files/\" + file):\n",
    "        shutil.move(path + file,path + \"DOC Files/\" + file)"
   ]
  },
  {
   "cell_type": "code",
   "execution_count": null,
   "id": "cc03d563",
   "metadata": {},
   "outputs": [],
   "source": []
  }
 ],
 "metadata": {
  "kernelspec": {
   "display_name": "Python 3 (ipykernel)",
   "language": "python",
   "name": "python3"
  },
  "language_info": {
   "codemirror_mode": {
    "name": "ipython",
    "version": 3
   },
   "file_extension": ".py",
   "mimetype": "text/x-python",
   "name": "python",
   "nbconvert_exporter": "python",
   "pygments_lexer": "ipython3",
   "version": "3.9.7"
  }
 },
 "nbformat": 4,
 "nbformat_minor": 5
}
